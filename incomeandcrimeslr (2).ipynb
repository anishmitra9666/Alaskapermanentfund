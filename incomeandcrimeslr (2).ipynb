{
 "cells": [
  {
   "cell_type": "markdown",
   "id": "e986e4cb",
   "metadata": {},
   "source": [
    "# How income, income inequality and universal basic income affect crime rates?"
   ]
  },
  {
   "cell_type": "code",
   "execution_count": 1,
   "id": "70947238-ce1b-4727-81d9-3e70b0c189f1",
   "metadata": {},
   "outputs": [],
   "source": [
    "#Importing pandas\n",
    "import pandas as pd\n",
    "#Importing numpy\n",
    "import numpy as np\n",
    "# Importing matplotlib\n",
    "import matplotlib.pyplot as plt\n",
    "%matplotlib inline\n",
    "#Importing integration package\n",
    "import scipy.integrate as integrate"
   ]
  },
  {
   "cell_type": "code",
   "execution_count": 2,
   "id": "d04f0414-3288-42a8-b5a5-1daff603d59b",
   "metadata": {},
   "outputs": [],
   "source": [
    "#Importing income raw data\n",
    "df1 = pd.read_csv('Copy of s133UN01qyLD (2).csv')\n",
    "#Importing race raw data\n",
    "df2 = pd.read_csv('Copy of s165u1u4BUbp (1).csv')"
   ]
  },
  {
   "cell_type": "code",
   "execution_count": 3,
   "id": "0cc377f1-ac39-474a-99e7-379ddcc7ad45",
   "metadata": {},
   "outputs": [
    {
     "data": {
      "text/html": [
       "<div>\n",
       "<style scoped>\n",
       "    .dataframe tbody tr th:only-of-type {\n",
       "        vertical-align: middle;\n",
       "    }\n",
       "\n",
       "    .dataframe tbody tr th {\n",
       "        vertical-align: top;\n",
       "    }\n",
       "\n",
       "    .dataframe thead th {\n",
       "        text-align: right;\n",
       "    }\n",
       "</style>\n",
       "<table border=\"1\" class=\"dataframe\">\n",
       "  <thead>\n",
       "    <tr style=\"text-align: right;\">\n",
       "      <th></th>\n",
       "      <th>YEAR</th>\n",
       "      <th>STATEFIP</th>\n",
       "      <th>INCTOT</th>\n",
       "    </tr>\n",
       "  </thead>\n",
       "  <tbody>\n",
       "    <tr>\n",
       "      <th>0</th>\n",
       "      <td>1980</td>\n",
       "      <td>23</td>\n",
       "      <td>18919</td>\n",
       "    </tr>\n",
       "    <tr>\n",
       "      <th>1</th>\n",
       "      <td>1980</td>\n",
       "      <td>23</td>\n",
       "      <td>8203</td>\n",
       "    </tr>\n",
       "    <tr>\n",
       "      <th>2</th>\n",
       "      <td>1980</td>\n",
       "      <td>23</td>\n",
       "      <td>13680</td>\n",
       "    </tr>\n",
       "    <tr>\n",
       "      <th>3</th>\n",
       "      <td>1980</td>\n",
       "      <td>23</td>\n",
       "      <td>2802</td>\n",
       "    </tr>\n",
       "    <tr>\n",
       "      <th>4</th>\n",
       "      <td>1980</td>\n",
       "      <td>23</td>\n",
       "      <td>0</td>\n",
       "    </tr>\n",
       "    <tr>\n",
       "      <th>...</th>\n",
       "      <td>...</td>\n",
       "      <td>...</td>\n",
       "      <td>...</td>\n",
       "    </tr>\n",
       "    <tr>\n",
       "      <th>688179</th>\n",
       "      <td>1983</td>\n",
       "      <td>15</td>\n",
       "      <td>999999999</td>\n",
       "    </tr>\n",
       "    <tr>\n",
       "      <th>688180</th>\n",
       "      <td>1983</td>\n",
       "      <td>15</td>\n",
       "      <td>35002</td>\n",
       "    </tr>\n",
       "    <tr>\n",
       "      <th>688181</th>\n",
       "      <td>1983</td>\n",
       "      <td>15</td>\n",
       "      <td>8502</td>\n",
       "    </tr>\n",
       "    <tr>\n",
       "      <th>688182</th>\n",
       "      <td>1983</td>\n",
       "      <td>15</td>\n",
       "      <td>0</td>\n",
       "    </tr>\n",
       "    <tr>\n",
       "      <th>688183</th>\n",
       "      <td>1983</td>\n",
       "      <td>15</td>\n",
       "      <td>999999999</td>\n",
       "    </tr>\n",
       "  </tbody>\n",
       "</table>\n",
       "<p>688184 rows × 3 columns</p>\n",
       "</div>"
      ],
      "text/plain": [
       "        YEAR  STATEFIP     INCTOT\n",
       "0       1980        23      18919\n",
       "1       1980        23       8203\n",
       "2       1980        23      13680\n",
       "3       1980        23       2802\n",
       "4       1980        23          0\n",
       "...      ...       ...        ...\n",
       "688179  1983        15  999999999\n",
       "688180  1983        15      35002\n",
       "688181  1983        15       8502\n",
       "688182  1983        15          0\n",
       "688183  1983        15  999999999\n",
       "\n",
       "[688184 rows x 3 columns]"
      ]
     },
     "execution_count": 3,
     "metadata": {},
     "output_type": "execute_result"
    }
   ],
   "source": [
    "#Displaying income raw data\n",
    "df1\n"
   ]
  },
  {
   "cell_type": "code",
   "execution_count": 4,
   "id": "6837c1c3",
   "metadata": {},
   "outputs": [
    {
     "data": {
      "text/plain": [
       "numpy.int64"
      ]
     },
     "execution_count": 4,
     "metadata": {},
     "output_type": "execute_result"
    }
   ],
   "source": [
    "type(df1[\"STATEFIP\"][43])"
   ]
  },
  {
   "cell_type": "code",
   "execution_count": 5,
   "id": "4691c6d5-3dbe-4326-acac-8b940d233fdc",
   "metadata": {},
   "outputs": [
    {
     "data": {
      "text/html": [
       "<div>\n",
       "<style scoped>\n",
       "    .dataframe tbody tr th:only-of-type {\n",
       "        vertical-align: middle;\n",
       "    }\n",
       "\n",
       "    .dataframe tbody tr th {\n",
       "        vertical-align: top;\n",
       "    }\n",
       "\n",
       "    .dataframe thead th {\n",
       "        text-align: right;\n",
       "    }\n",
       "</style>\n",
       "<table border=\"1\" class=\"dataframe\">\n",
       "  <thead>\n",
       "    <tr style=\"text-align: right;\">\n",
       "      <th></th>\n",
       "      <th>YEAR</th>\n",
       "      <th>STATEFIP</th>\n",
       "      <th>RACE</th>\n",
       "    </tr>\n",
       "  </thead>\n",
       "  <tbody>\n",
       "    <tr>\n",
       "      <th>0</th>\n",
       "      <td>1980</td>\n",
       "      <td>23</td>\n",
       "      <td>100</td>\n",
       "    </tr>\n",
       "    <tr>\n",
       "      <th>1</th>\n",
       "      <td>1980</td>\n",
       "      <td>23</td>\n",
       "      <td>100</td>\n",
       "    </tr>\n",
       "    <tr>\n",
       "      <th>2</th>\n",
       "      <td>1980</td>\n",
       "      <td>23</td>\n",
       "      <td>100</td>\n",
       "    </tr>\n",
       "    <tr>\n",
       "      <th>3</th>\n",
       "      <td>1980</td>\n",
       "      <td>23</td>\n",
       "      <td>100</td>\n",
       "    </tr>\n",
       "    <tr>\n",
       "      <th>4</th>\n",
       "      <td>1980</td>\n",
       "      <td>23</td>\n",
       "      <td>100</td>\n",
       "    </tr>\n",
       "    <tr>\n",
       "      <th>...</th>\n",
       "      <td>...</td>\n",
       "      <td>...</td>\n",
       "      <td>...</td>\n",
       "    </tr>\n",
       "    <tr>\n",
       "      <th>688179</th>\n",
       "      <td>1983</td>\n",
       "      <td>15</td>\n",
       "      <td>100</td>\n",
       "    </tr>\n",
       "    <tr>\n",
       "      <th>688180</th>\n",
       "      <td>1983</td>\n",
       "      <td>15</td>\n",
       "      <td>100</td>\n",
       "    </tr>\n",
       "    <tr>\n",
       "      <th>688181</th>\n",
       "      <td>1983</td>\n",
       "      <td>15</td>\n",
       "      <td>100</td>\n",
       "    </tr>\n",
       "    <tr>\n",
       "      <th>688182</th>\n",
       "      <td>1983</td>\n",
       "      <td>15</td>\n",
       "      <td>100</td>\n",
       "    </tr>\n",
       "    <tr>\n",
       "      <th>688183</th>\n",
       "      <td>1983</td>\n",
       "      <td>15</td>\n",
       "      <td>100</td>\n",
       "    </tr>\n",
       "  </tbody>\n",
       "</table>\n",
       "<p>688184 rows × 3 columns</p>\n",
       "</div>"
      ],
      "text/plain": [
       "        YEAR  STATEFIP  RACE\n",
       "0       1980        23   100\n",
       "1       1980        23   100\n",
       "2       1980        23   100\n",
       "3       1980        23   100\n",
       "4       1980        23   100\n",
       "...      ...       ...   ...\n",
       "688179  1983        15   100\n",
       "688180  1983        15   100\n",
       "688181  1983        15   100\n",
       "688182  1983        15   100\n",
       "688183  1983        15   100\n",
       "\n",
       "[688184 rows x 3 columns]"
      ]
     },
     "execution_count": 5,
     "metadata": {},
     "output_type": "execute_result"
    }
   ],
   "source": [
    "#Displaying race raw data\n",
    "df2"
   ]
  },
  {
   "cell_type": "code",
   "execution_count": 6,
   "id": "7e39c91a-7c9b-40ee-9e1d-ec5f8e74704e",
   "metadata": {},
   "outputs": [
    {
     "name": "stdout",
     "output_type": "stream",
     "text": [
      "0\n"
     ]
    }
   ],
   "source": [
    "#Counting the number of null values in race data\n",
    "countnull = 0\n",
    "for x in df2[\"RACE\"]:\n",
    "    if x == None:\n",
    "        countnull = countnull+1\n",
    "print(countnull)"
   ]
  },
  {
   "cell_type": "code",
   "execution_count": 7,
   "id": "2cb5f08a-16c3-4da1-aaa8-2fc4b2f1267c",
   "metadata": {},
   "outputs": [
    {
     "name": "stdout",
     "output_type": "stream",
     "text": [
      "Number of incomes greater than ten million = 164506\n",
      "Number of incomes greater than seven figures = 164506\n",
      "Number of incomes greater than one million = 164506\n",
      "Number of incomes greater than six figures = 164506\n",
      "Number of incomes greater than hundred thousand = 164683\n",
      "Number of incomes greater than ten thousands = 368763\n",
      "Number of incomes greater than a thousand = 589688\n",
      "Number of people with zero incomes = 44076\n",
      "Number of people with negative income values = 2665\n"
     ]
    }
   ],
   "source": [
    "#Counting the number of values greater than ten million, 9999999, one million, 999999, hundred thousand, ten thousand, \n",
    "#one thousand and less than zero respectively to determine what are the values of the erroneous values.\n",
    "counttenmillion = 0\n",
    "for x in df1[\"INCTOT\"]:\n",
    "    if 10000000 < x:\n",
    "        counttenmillion = counttenmillion+1\n",
    "print(\"Number of incomes greater than ten million = \" + str(counttenmillion))\n",
    "counttenmillionlessone = 0\n",
    "for x in df1[\"INCTOT\"]:\n",
    "    if 9999999 < x:\n",
    "        counttenmillionlessone = counttenmillionlessone+1\n",
    "print(\"Number of incomes greater than seven figures = \" + str(counttenmillionlessone))\n",
    "countmillion = 0\n",
    "for x in df1[\"INCTOT\"]:\n",
    "    if 1000000 < x:\n",
    "        countmillion = countmillion+1\n",
    "print(\"Number of incomes greater than one million = \" + str(counttenmillion))\n",
    "countmillion = 0\n",
    "for x in df1[\"INCTOT\"]:\n",
    "    if 999999 < x:\n",
    "        countmillion = countmillion+1\n",
    "print(\"Number of incomes greater than six figures = \" + str(countmillion))\n",
    "countlakh = 0\n",
    "for x in df1[\"INCTOT\"]:\n",
    "    if 99999 < x:\n",
    "        countlakh = countlakh+1\n",
    "print(\"Number of incomes greater than hundred thousand = \" + str(countlakh))\n",
    "countlakhs = 0\n",
    "for x in df1[\"INCTOT\"]:\n",
    "    if 9999 < x:\n",
    "        countlakhs = countlakhs+1\n",
    "print(\"Number of incomes greater than ten thousands = \" + str(countlakhs))\n",
    "countthousand = 0\n",
    "for x in df1[\"INCTOT\"]:\n",
    "    if 999 < x:\n",
    "        countthousand = countthousand+1\n",
    "print(\"Number of incomes greater than a thousand = \" + str(countthousand))\n",
    "countzero = 0\n",
    "for x in df1[\"INCTOT\"]:\n",
    "    if x == 0:\n",
    "        countzero = countzero+1\n",
    "print(\"Number of people with zero incomes = \" + str(countzero))\n",
    "countneg = 0\n",
    "for x in df1[\"INCTOT\"]:\n",
    "    if 0 > x:\n",
    "        countneg = countneg+1\n",
    "print(\"Number of people with negative income values = \" + str(countneg))"
   ]
  },
  {
   "cell_type": "markdown",
   "id": "859dbff2",
   "metadata": {},
   "source": [
    "We see there are 44076 unemployed people in this dataset and a further 2665 on government assistance. The vast majority \n",
    "of people have an income greater than a thousand and the erroneous values seem to all be greater than six figures. We will now\n",
    "confirm the value(s) of these missing values."
   ]
  },
  {
   "cell_type": "code",
   "execution_count": 8,
   "id": "93af12b3",
   "metadata": {},
   "outputs": [
    {
     "data": {
      "text/plain": [
       "999999999    164506\n",
       "Name: INCTOT, dtype: int64"
      ]
     },
     "execution_count": 8,
     "metadata": {},
     "output_type": "execute_result"
    }
   ],
   "source": [
    "df1[df1[\"INCTOT\"] > 1000000][\"INCTOT\"].value_counts()"
   ]
  },
  {
   "cell_type": "markdown",
   "id": "6686f119",
   "metadata": {},
   "source": [
    "As shown, they are all 999999999."
   ]
  },
  {
   "cell_type": "code",
   "execution_count": 9,
   "id": "87f3aa60",
   "metadata": {},
   "outputs": [
    {
     "data": {
      "text/plain": [
       "numpy.int64"
      ]
     },
     "execution_count": 9,
     "metadata": {},
     "output_type": "execute_result"
    }
   ],
   "source": [
    "type(df2[\"YEAR\"][21])"
   ]
  },
  {
   "cell_type": "markdown",
   "id": "f8f394bc-3b49-4cf2-aee4-f10ce6559f1b",
   "metadata": {},
   "source": [
    "The reason the number of incomes below 10 million, 7 figure-salaries, one million, six figures, a lakh, ten thousand, one thousand, exactly zero and negative were counted was two-fold. Firstly, many numbers in the orginal csv file were getting set to 999999999 by default if they were above a certain value. I wanted to find what the value above which these values were getting set to 999999999 by default. I found out it was when there were six figures. However, it may very well be that the numbers being set to 999999999 by default were getting set that way due to some other reason like being null or something. I don't know yet but I do hypothesize it will be those values greater than six figures."
   ]
  },
  {
   "cell_type": "code",
   "execution_count": 10,
   "id": "269a14e0-7e5b-4c7b-96fd-df5007bcc3b7",
   "metadata": {},
   "outputs": [],
   "source": [
    "#Creating dataframe with positive values less than ten million. The reason I did this was because while downloading the \n",
    "#data from IPUMS CPS many values were automatically getting set to 999999999 and so I just split the data with this dataset\n",
    "#having the known values. I will fill in the mean of all the unknown values later after calculating it for each year.\n",
    "df3 = df1[(df1.INCTOT<10000000)]"
   ]
  },
  {
   "cell_type": "code",
   "execution_count": 11,
   "id": "1babfa6c-2bdc-47f1-a033-4bf286fa959d",
   "metadata": {},
   "outputs": [
    {
     "data": {
      "text/html": [
       "<div>\n",
       "<style scoped>\n",
       "    .dataframe tbody tr th:only-of-type {\n",
       "        vertical-align: middle;\n",
       "    }\n",
       "\n",
       "    .dataframe tbody tr th {\n",
       "        vertical-align: top;\n",
       "    }\n",
       "\n",
       "    .dataframe thead th {\n",
       "        text-align: right;\n",
       "    }\n",
       "</style>\n",
       "<table border=\"1\" class=\"dataframe\">\n",
       "  <thead>\n",
       "    <tr style=\"text-align: right;\">\n",
       "      <th></th>\n",
       "      <th>YEAR</th>\n",
       "      <th>STATEFIP</th>\n",
       "      <th>INCTOT</th>\n",
       "    </tr>\n",
       "  </thead>\n",
       "  <tbody>\n",
       "    <tr>\n",
       "      <th>0</th>\n",
       "      <td>1980</td>\n",
       "      <td>23</td>\n",
       "      <td>18919</td>\n",
       "    </tr>\n",
       "    <tr>\n",
       "      <th>1</th>\n",
       "      <td>1980</td>\n",
       "      <td>23</td>\n",
       "      <td>8203</td>\n",
       "    </tr>\n",
       "    <tr>\n",
       "      <th>2</th>\n",
       "      <td>1980</td>\n",
       "      <td>23</td>\n",
       "      <td>13680</td>\n",
       "    </tr>\n",
       "    <tr>\n",
       "      <th>3</th>\n",
       "      <td>1980</td>\n",
       "      <td>23</td>\n",
       "      <td>2802</td>\n",
       "    </tr>\n",
       "    <tr>\n",
       "      <th>4</th>\n",
       "      <td>1980</td>\n",
       "      <td>23</td>\n",
       "      <td>0</td>\n",
       "    </tr>\n",
       "    <tr>\n",
       "      <th>...</th>\n",
       "      <td>...</td>\n",
       "      <td>...</td>\n",
       "      <td>...</td>\n",
       "    </tr>\n",
       "    <tr>\n",
       "      <th>688177</th>\n",
       "      <td>1983</td>\n",
       "      <td>15</td>\n",
       "      <td>33011</td>\n",
       "    </tr>\n",
       "    <tr>\n",
       "      <th>688178</th>\n",
       "      <td>1983</td>\n",
       "      <td>15</td>\n",
       "      <td>3338</td>\n",
       "    </tr>\n",
       "    <tr>\n",
       "      <th>688180</th>\n",
       "      <td>1983</td>\n",
       "      <td>15</td>\n",
       "      <td>35002</td>\n",
       "    </tr>\n",
       "    <tr>\n",
       "      <th>688181</th>\n",
       "      <td>1983</td>\n",
       "      <td>15</td>\n",
       "      <td>8502</td>\n",
       "    </tr>\n",
       "    <tr>\n",
       "      <th>688182</th>\n",
       "      <td>1983</td>\n",
       "      <td>15</td>\n",
       "      <td>0</td>\n",
       "    </tr>\n",
       "  </tbody>\n",
       "</table>\n",
       "<p>523678 rows × 3 columns</p>\n",
       "</div>"
      ],
      "text/plain": [
       "        YEAR  STATEFIP  INCTOT\n",
       "0       1980        23   18919\n",
       "1       1980        23    8203\n",
       "2       1980        23   13680\n",
       "3       1980        23    2802\n",
       "4       1980        23       0\n",
       "...      ...       ...     ...\n",
       "688177  1983        15   33011\n",
       "688178  1983        15    3338\n",
       "688180  1983        15   35002\n",
       "688181  1983        15    8502\n",
       "688182  1983        15       0\n",
       "\n",
       "[523678 rows x 3 columns]"
      ]
     },
     "execution_count": 11,
     "metadata": {},
     "output_type": "execute_result"
    }
   ],
   "source": [
    "#Displaying income dataframe\n",
    "df3"
   ]
  },
  {
   "cell_type": "code",
   "execution_count": 12,
   "id": "4922b6e3-f300-4108-872f-e51568364d48",
   "metadata": {},
   "outputs": [
    {
     "data": {
      "text/plain": [
       "(523678, 3)"
      ]
     },
     "execution_count": 12,
     "metadata": {},
     "output_type": "execute_result"
    }
   ],
   "source": [
    "#Seeing the number of rows and columns in df3.\n",
    "df3.shape"
   ]
  },
  {
   "cell_type": "code",
   "execution_count": 13,
   "id": "a655a7da-36dc-4904-8b2e-46d9f4a0ee1b",
   "metadata": {},
   "outputs": [
    {
     "data": {
      "text/plain": [
       "523678"
      ]
     },
     "execution_count": 13,
     "metadata": {},
     "output_type": "execute_result"
    }
   ],
   "source": [
    "#This calculation was performed to verify the correct values were used. \n",
    "#Number of total original values - Number of values greater than a million = Number of current values in this set\n",
    "688184-164506"
   ]
  },
  {
   "cell_type": "markdown",
   "id": "45932e6e-9f81-48b8-a22e-e20d37709aa9",
   "metadata": {},
   "source": [
    "There were originally 688184 values with 164506 values being greater than a million and since we eliminated values greater than\n",
    "a million, there are now 523678."
   ]
  },
  {
   "cell_type": "code",
   "execution_count": 14,
   "id": "3d702dd0-3a8d-4134-b02a-314aa2f4d909",
   "metadata": {},
   "outputs": [],
   "source": [
    "#Creating a dataframe with only 700,200 and 100 as values\n",
    "df4 = df2[((df2.RACE==700) | (df2.RACE==200) | (df2.RACE==100))]"
   ]
  },
  {
   "cell_type": "code",
   "execution_count": 15,
   "id": "49466ac8-45ee-4780-9bee-58a4ce79eb16",
   "metadata": {},
   "outputs": [
    {
     "data": {
      "text/html": [
       "<div>\n",
       "<style scoped>\n",
       "    .dataframe tbody tr th:only-of-type {\n",
       "        vertical-align: middle;\n",
       "    }\n",
       "\n",
       "    .dataframe tbody tr th {\n",
       "        vertical-align: top;\n",
       "    }\n",
       "\n",
       "    .dataframe thead th {\n",
       "        text-align: right;\n",
       "    }\n",
       "</style>\n",
       "<table border=\"1\" class=\"dataframe\">\n",
       "  <thead>\n",
       "    <tr style=\"text-align: right;\">\n",
       "      <th></th>\n",
       "      <th>YEAR</th>\n",
       "      <th>STATEFIP</th>\n",
       "      <th>RACE</th>\n",
       "    </tr>\n",
       "  </thead>\n",
       "  <tbody>\n",
       "    <tr>\n",
       "      <th>0</th>\n",
       "      <td>1980</td>\n",
       "      <td>23</td>\n",
       "      <td>100</td>\n",
       "    </tr>\n",
       "    <tr>\n",
       "      <th>1</th>\n",
       "      <td>1980</td>\n",
       "      <td>23</td>\n",
       "      <td>100</td>\n",
       "    </tr>\n",
       "    <tr>\n",
       "      <th>2</th>\n",
       "      <td>1980</td>\n",
       "      <td>23</td>\n",
       "      <td>100</td>\n",
       "    </tr>\n",
       "    <tr>\n",
       "      <th>3</th>\n",
       "      <td>1980</td>\n",
       "      <td>23</td>\n",
       "      <td>100</td>\n",
       "    </tr>\n",
       "    <tr>\n",
       "      <th>4</th>\n",
       "      <td>1980</td>\n",
       "      <td>23</td>\n",
       "      <td>100</td>\n",
       "    </tr>\n",
       "    <tr>\n",
       "      <th>...</th>\n",
       "      <td>...</td>\n",
       "      <td>...</td>\n",
       "      <td>...</td>\n",
       "    </tr>\n",
       "    <tr>\n",
       "      <th>688179</th>\n",
       "      <td>1983</td>\n",
       "      <td>15</td>\n",
       "      <td>100</td>\n",
       "    </tr>\n",
       "    <tr>\n",
       "      <th>688180</th>\n",
       "      <td>1983</td>\n",
       "      <td>15</td>\n",
       "      <td>100</td>\n",
       "    </tr>\n",
       "    <tr>\n",
       "      <th>688181</th>\n",
       "      <td>1983</td>\n",
       "      <td>15</td>\n",
       "      <td>100</td>\n",
       "    </tr>\n",
       "    <tr>\n",
       "      <th>688182</th>\n",
       "      <td>1983</td>\n",
       "      <td>15</td>\n",
       "      <td>100</td>\n",
       "    </tr>\n",
       "    <tr>\n",
       "      <th>688183</th>\n",
       "      <td>1983</td>\n",
       "      <td>15</td>\n",
       "      <td>100</td>\n",
       "    </tr>\n",
       "  </tbody>\n",
       "</table>\n",
       "<p>688184 rows × 3 columns</p>\n",
       "</div>"
      ],
      "text/plain": [
       "        YEAR  STATEFIP  RACE\n",
       "0       1980        23   100\n",
       "1       1980        23   100\n",
       "2       1980        23   100\n",
       "3       1980        23   100\n",
       "4       1980        23   100\n",
       "...      ...       ...   ...\n",
       "688179  1983        15   100\n",
       "688180  1983        15   100\n",
       "688181  1983        15   100\n",
       "688182  1983        15   100\n",
       "688183  1983        15   100\n",
       "\n",
       "[688184 rows x 3 columns]"
      ]
     },
     "execution_count": 15,
     "metadata": {},
     "output_type": "execute_result"
    }
   ],
   "source": [
    "#Displaying race dataframe\n",
    "df4 "
   ]
  },
  {
   "cell_type": "code",
   "execution_count": 16,
   "id": "3c292e87-0f95-45ff-b9f7-83fa7834653d",
   "metadata": {},
   "outputs": [
    {
     "data": {
      "text/plain": [
       "(688184, 3)"
      ]
     },
     "execution_count": 16,
     "metadata": {},
     "output_type": "execute_result"
    }
   ],
   "source": [
    "#Counting the number of rows and columns in the race dataframe\n",
    "df4.shape"
   ]
  },
  {
   "cell_type": "code",
   "execution_count": 17,
   "id": "64c8bc9b-66b5-4168-9d5d-e804cca6d12e",
   "metadata": {},
   "outputs": [],
   "source": [
    "#Splitting race and income dataframes by year\n",
    "dfinc1980 = df3[df3[\"YEAR\"] == 1980]\n",
    "dfinc1981 = df3[df3[\"YEAR\"] == 1981]\n",
    "dfinc1982 = df3[df3[\"YEAR\"] == 1982]\n",
    "dfinc1983 = df3[df3[\"YEAR\"] == 1983]\n",
    "dfrace1980 = df4[df4[\"YEAR\"] == 1980]\n",
    "dfrace1981 = df4[df4[\"YEAR\"] == 1981]\n",
    "dfrace1982 = df4[df4[\"YEAR\"] == 1982]\n",
    "dfrace1983 = df4[df4[\"YEAR\"] == 1983]"
   ]
  },
  {
   "cell_type": "code",
   "execution_count": 18,
   "id": "1c900d54-bd63-4604-b302-32a6c0cd2328",
   "metadata": {},
   "outputs": [],
   "source": [
    "#Creating a dataframe with only values greater than a million to get what the average income of unreported incomes in each\n",
    "#state was and the total number of unreported incomes in each state.\n",
    "df5 = df1[(df1.INCTOT>10000000)]"
   ]
  },
  {
   "cell_type": "code",
   "execution_count": 19,
   "id": "7b0df87e-e103-4ba3-bad5-9fea951fc6be",
   "metadata": {},
   "outputs": [],
   "source": [
    "#Splitting dataframes with high, and poverty-level incomes by year\n",
    "dfinchigh1980 = df5[df5[\"YEAR\"] == 1980]\n",
    "dfinchigh1981 = df5[df5[\"YEAR\"] == 1981]\n",
    "dfinchigh1982 = df5[df5[\"YEAR\"] == 1982]\n",
    "dfinchigh1983 = df5[df5[\"YEAR\"] == 1983]\n",
    "dfincpoverty1980 = dfinc1980[dfinc1980[\"INCTOT\"] <4160]\n",
    "dfincpoverty1981 = dfinc1981[dfinc1981[\"INCTOT\"] <4620]\n",
    "dfincpoverty1982 = dfinc1982[dfinc1982[\"INCTOT\"] <4901]\n",
    "dfincpoverty1983 = dfinc1983[dfinc1983[\"INCTOT\"] <5061]"
   ]
  },
  {
   "cell_type": "code",
   "execution_count": 20,
   "id": "56917083",
   "metadata": {},
   "outputs": [],
   "source": [
    "inc1980ss = dfinc1980.groupby([\"STATEFIP\"]).describe().reset_index().to_csv(\"inc1980cleandata.csv\")\n",
    "inc1981ss = dfinc1981.groupby([\"STATEFIP\"]).describe().reset_index().to_csv(\"inc1981cleandata.csv\")\n",
    "inc1982ss = dfinc1982.groupby([\"STATEFIP\"]).describe().reset_index().to_csv(\"inc1982cleandata.csv\")\n",
    "inc1983ss = dfinc1983.groupby([\"STATEFIP\"]).describe().reset_index().to_csv(\"inc1983cleandata.csv\")\n",
    "inchigh1980ss = dfinchigh1980.groupby([\"STATEFIP\"]).describe().reset_index().to_csv(\"inchigh1980cleandata.csv\")\n",
    "inchigh1981ss = dfinchigh1981.groupby([\"STATEFIP\"]).describe().reset_index().to_csv(\"inchigh1981cleandata.csv\")\n",
    "inchigh1982ss = dfinchigh1982.groupby([\"STATEFIP\"]).describe().reset_index().to_csv(\"inchigh1982cleandata.csv\")\n",
    "inchigh1983ss = dfinchigh1983.groupby([\"STATEFIP\"]).describe().reset_index().to_csv(\"inchigh1983cleandata.csv\")\n",
    "incpoverty1980ss = dfincpoverty1980.groupby([\"STATEFIP\"]).describe().reset_index().to_csv(\"incpoverty1980cleandata.csv\")\n",
    "incpoverty1981ss = dfincpoverty1981.groupby([\"STATEFIP\"]).describe().reset_index().to_csv(\"incpoverty1981cleandata.csv\")\n",
    "incpoverty1982ss = dfincpoverty1982.groupby([\"STATEFIP\"]).describe().reset_index().to_csv(\"incpoverty1982cleandata.csv\")\n",
    "incpoverty1983ss = dfincpoverty1983.groupby([\"STATEFIP\"]).describe().reset_index().to_csv(\"incpoverty1983cleandata.csv\")\n",
    "race1980ss = dfrace1980.value_counts().groupby([\"STATEFIP\"]).describe().to_csv(\"race1980cleandata.csv\")\n",
    "race1981ss = dfrace1980.value_counts().groupby([\"STATEFIP\"]).describe().to_csv(\"race1981cleandata.csv\")\n",
    "race1982ss = dfrace1980.value_counts().groupby([\"STATEFIP\"]).describe().to_csv(\"race1982cleandata.csv\")\n",
    "race1983ss = dfrace1980.value_counts().groupby([\"STATEFIP\"]).describe().to_csv(\"race1983cleandata.csv\")\n",
    "df4.value_counts().reset_index().to_csv(\"racecounts.csv\")"
   ]
  },
  {
   "cell_type": "code",
   "execution_count": 21,
   "id": "ba7580ed",
   "metadata": {},
   "outputs": [
    {
     "data": {
      "text/plain": [
       "[999999999]"
      ]
     },
     "execution_count": 21,
     "metadata": {},
     "output_type": "execute_result"
    }
   ],
   "source": [
    "#Checking the unqiue values in df5\n",
    "list(df5[\"INCTOT\"].unique())"
   ]
  },
  {
   "cell_type": "markdown",
   "id": "d5ea4a1e",
   "metadata": {},
   "source": [
    "This confirms we have only dropped the values which were getting mutated to 999999999."
   ]
  },
  {
   "cell_type": "markdown",
   "id": "1032810e",
   "metadata": {},
   "source": [
    "Poverty lines were different for different years."
   ]
  },
  {
   "cell_type": "code",
   "execution_count": 22,
   "id": "4d5106dc-530b-4ac3-9044-d23c0678d972",
   "metadata": {},
   "outputs": [
    {
     "data": {
      "text/plain": [
       "array([23, 33, 50, 25, 44,  9, 36, 34, 42, 39, 18, 17, 26, 55, 27, 19, 29,\n",
       "       38, 46, 31, 20, 10, 24, 11, 51, 54, 37, 45, 13, 12, 21, 47,  1, 28,\n",
       "        5, 22, 40, 48, 30, 16, 56,  8, 35,  4, 49, 32, 53, 41,  6,  2, 15],\n",
       "      dtype=int64)"
      ]
     },
     "execution_count": 22,
     "metadata": {},
     "output_type": "execute_result"
    }
   ],
   "source": [
    "#Printing the codes for the states(e.g 1=Alabama)\n",
    "dfinc1980[\"STATEFIP\"].unique()"
   ]
  },
  {
   "cell_type": "code",
   "execution_count": 23,
   "id": "c5ae9638",
   "metadata": {},
   "outputs": [],
   "source": [
    "dfinc1980Alaska = dfinc1980[dfinc1980[\"STATEFIP\"] == 2]\n",
    "dfinc1981Alaska = dfinc1981[dfinc1981[\"STATEFIP\"] == 2]\n",
    "dfinc1982Alaska = dfinc1982[dfinc1982[\"STATEFIP\"] == 2]\n",
    "dfinc1983Alaska = dfinc1983[dfinc1983[\"STATEFIP\"] == 2]"
   ]
  },
  {
   "cell_type": "code",
   "execution_count": 24,
   "id": "5e8fc6a8",
   "metadata": {},
   "outputs": [
    {
     "data": {
      "text/plain": [
       "177397    11700\n",
       "177398     7800\n",
       "177400    11828\n",
       "177403    11205\n",
       "177404    10900\n",
       "          ...  \n",
       "179516     2706\n",
       "179517     5829\n",
       "179518    13800\n",
       "179519    29070\n",
       "179520     1720\n",
       "Name: INCTOT, Length: 1520, dtype: int64"
      ]
     },
     "execution_count": 24,
     "metadata": {},
     "output_type": "execute_result"
    }
   ],
   "source": [
    "dfinc1980Alaska[\"INCTOT\"]"
   ]
  },
  {
   "cell_type": "code",
   "execution_count": 25,
   "id": "2383c4b7-fdb4-46ff-9a2a-9c9a2a48b5f3",
   "metadata": {},
   "outputs": [
    {
     "data": {
      "text/plain": [
       "<matplotlib.legend.Legend at 0x2b29b829c10>"
      ]
     },
     "execution_count": 25,
     "metadata": {},
     "output_type": "execute_result"
    },
    {
     "data": {
      "image/png": "[encoded data removed]",
      "text/plain": [
       "<Figure size 432x288 with 1 Axes>"
      ]
     },
     "metadata": {
      "needs_background": "light"
     },
     "output_type": "display_data"
    },
    {
     "data": {
      "image/png": "[encoded data removed]",
      "text/plain": [
       "<Figure size 432x288 with 1 Axes>"
      ]
     },
     "metadata": {
      "needs_background": "light"
     },
     "output_type": "display_data"
    },
    {
     "data": {
      "image/png": "[encoded data removed]",
      "text/plain": [
       "<Figure size 432x288 with 1 Axes>"
      ]
     },
     "metadata": {
      "needs_background": "light"
     },
     "output_type": "display_data"
    },
    {
     "data": {
      "image/png": "[encoded data removed]",
      "text/plain": [
       "<Figure size 432x288 with 1 Axes>"
      ]
     },
     "metadata": {
      "needs_background": "light"
     },
     "output_type": "display_data"
    }
   ],
   "source": [
    "#Visualizing the Gini coefficient for Alaska by year\n",
    "#Year 1980\n",
    "plt.figure()\n",
    "a=(0,1)\n",
    "b=(0,1)\n",
    "x1980=np.arange(0,dfinc1980Alaska['INCTOT'].count()/(1+dfinc1980Alaska['INCTOT'].count()),1/(1+dfinc1980Alaska['INCTOT'].count()))\n",
    "y1980=dfinc1980Alaska['INCTOT'].sort_values().cumsum()/dfinc1980Alaska['INCTOT'].sum()\n",
    "plt.xlabel(\"fraction of population\")\n",
    "plt.ylabel(\"fraction of wealth\")\n",
    "plt.title(\"Alaska 1980 Gini coefficient\")\n",
    "plt.plot(x1980,y1980,'g',label=\"1980 Lorenz curve\")\n",
    "plt.plot(a,b,'--',label = \"perfect income equality\")\n",
    "plt.legend()\n",
    "#Year 1981\n",
    "plt.figure()\n",
    "a=(0,1)\n",
    "b=(0,1)\n",
    "x1981=np.arange(0,dfinc1981Alaska['INCTOT'].count()/(1+dfinc1981Alaska['INCTOT'].count()),1/(1+dfinc1981Alaska['INCTOT'].count()))\n",
    "y1981=dfinc1981Alaska['INCTOT'].sort_values().cumsum()/dfinc1981Alaska['INCTOT'].sum()\n",
    "plt.xlabel(\"fraction of population\")\n",
    "plt.ylabel(\"fraction of wealth\")\n",
    "plt.title(\"Alaska 1981 Gini coefficient\")\n",
    "plt.plot(x1981,y1981,'purple',label=\"1981 Lorenz curve\")\n",
    "plt.plot(a,b,'--',label = \"perfect income equality\")\n",
    "plt.legend()\n",
    "#Year 1982\n",
    "plt.figure()\n",
    "a=(0,1)\n",
    "b=(0,1)\n",
    "x1982=np.arange(0,dfinc1982Alaska['INCTOT'].count()/(1+dfinc1982Alaska['INCTOT'].count()),1/(1+dfinc1982Alaska['INCTOT'].count()))\n",
    "y1982=dfinc1982Alaska['INCTOT'].sort_values().cumsum()/dfinc1982Alaska['INCTOT'].sum()\n",
    "plt.plot(x1982,y1982,'y',label=\"1982 Lorenz curve\")\n",
    "plt.plot(a,b,'--',label = \"perfect income equality\")\n",
    "plt.xlabel(\"fraction of population\")\n",
    "plt.ylabel(\"fraction of wealth\")\n",
    "plt.title(\"Alaska 1982 Gini coefficient\")\n",
    "plt.legend()\n",
    "#Year 1983\n",
    "plt.figure()\n",
    "a=(0,1)\n",
    "b=(0,1)\n",
    "x1983=np.arange(0,dfinc1983Alaska['INCTOT'].count()/(1+dfinc1983Alaska['INCTOT'].count()),1/(1+dfinc1983Alaska['INCTOT'].count()))\n",
    "y1983=dfinc1983Alaska['INCTOT'].sort_values().cumsum()/dfinc1983Alaska['INCTOT'].sum()\n",
    "plt.xlabel(\"fraction of population\")\n",
    "plt.ylabel(\"fraction of wealth\")\n",
    "plt.title(\"Alaska 1983 Gini coefficient\")\n",
    "plt.plot(a,b,'--',label = \"perfect income equality\")\n",
    "plt.plot(x1983,y1983,'blue',label=\"1983 Lorenz curve\")\n",
    "plt.legend()"
   ]
  },
  {
   "cell_type": "code",
   "execution_count": 26,
   "id": "a78feb69",
   "metadata": {},
   "outputs": [
    {
     "data": {
      "text/plain": [
       "<matplotlib.legend.Legend at 0x2b295587700>"
      ]
     },
     "execution_count": 26,
     "metadata": {},
     "output_type": "execute_result"
    },
    {
     "data": {
      "image/png": "[encoded data removed]",
      "text/plain": [
       "<Figure size 1080x1080 with 1 Axes>"
      ]
     },
     "metadata": {
      "needs_background": "light"
     },
     "output_type": "display_data"
    }
   ],
   "source": [
    "#All 4 of the above plots in one figure\n",
    "plt.figure(figsize=(15,15))\n",
    "a=(0,1)\n",
    "b=(0,1)\n",
    "plt.xlabel(\"fraction of population\")\n",
    "plt.ylabel(\"fraction of wealth\")\n",
    "plt.title(\"All Gini coefficients for Alaska\")\n",
    "plt.plot(a,b,'--',label = \"perfect income equality\")\n",
    "plt.plot(x1980,y1980,'g',label=\"1980 Lorenz curve\")\n",
    "plt.plot(x1981,y1981,'purple',label=\"1981 Lorenz curve\")\n",
    "plt.plot(x1982,y1982,'y',label=\"1982 Lorenz curve\")\n",
    "plt.plot(x1983,y1983,'blue',label=\"1983 Lorenz curve\")\n",
    "plt.legend()"
   ]
  },
  {
   "cell_type": "markdown",
   "id": "e502d865",
   "metadata": {},
   "source": [
    "As can be seen in this figure, the purple 1981 line has the highest level of income inequality and thus should have the highest gini coefficient which we will soon find out whether this is the case or not. "
   ]
  },
  {
   "cell_type": "code",
   "execution_count": 27,
   "id": "3a90442f-8fa4-4a77-a596-5c13e89a783f",
   "metadata": {},
   "outputs": [
    {
     "name": "stdout",
     "output_type": "stream",
     "text": [
      "0.5425920220116938\n",
      "0.5599514210637335\n",
      "0.5376873955415595\n",
      "0.5402283730686206\n"
     ]
    }
   ],
   "source": [
    "#Gini coefficients for Alaska across four years\n",
    "z = integrate.simpson(y1980, x1980)\n",
    "print(1-2*z)\n",
    "z = integrate.simpson(y1981, x1981)\n",
    "print(1-2*z)\n",
    "z = integrate.simpson(y1982, x1982)\n",
    "print(1-2*z)\n",
    "z = integrate.simpson(y1983, x1983)\n",
    "print(1-2*z)"
   ]
  },
  {
   "cell_type": "markdown",
   "id": "41382087-77cb-452b-869e-2a27d927f590",
   "metadata": {},
   "source": [
    "For Alaska, we see that income inequality increased significantly from 1980 to 1981 but then shot down singnificantly as soon as the Alaska permanent fund was introduced in 1982. This makes a lot of sense as a 1000 dollars means a lot more to people who are unemployed or on benefits compared to people who are wealthy as a percentage of their income. For example, If someone is earning 200 a month their incomes sextuples compared to someone earning 2000 whose income only increases 50%. Also, 1981 does have the highest gini coefficient thus our predictions make sense. "
   ]
  },
  {
   "cell_type": "code",
   "execution_count": 39,
   "id": "00a1fec3-a88f-4b63-823d-4dfbe1e28bb6",
   "metadata": {},
   "outputs": [
    {
     "ename": "AttributeError",
     "evalue": "'int' object has no attribute 'groupby'",
     "output_type": "error",
     "traceback": [
      "\u001b[1;31m---------------------------------------------------------------------------\u001b[0m",
      "\u001b[1;31mAttributeError\u001b[0m                            Traceback (most recent call last)",
      "\u001b[1;32m~\\AppData\\Local\\Temp/ipykernel_13832/2482731761.py\u001b[0m in \u001b[0;36m<module>\u001b[1;34m\u001b[0m\n\u001b[0;32m      1\u001b[0m \u001b[1;31m#Printing the Gini coefficients for each state\u001b[0m\u001b[1;33m\u001b[0m\u001b[1;33m\u001b[0m\u001b[0m\n\u001b[0;32m      2\u001b[0m \u001b[1;32mfor\u001b[0m \u001b[0mx\u001b[0m \u001b[1;32min\u001b[0m \u001b[0mdfinc1980\u001b[0m\u001b[1;33m[\u001b[0m\u001b[1;34m\"INCTOT\"\u001b[0m\u001b[1;33m]\u001b[0m\u001b[1;33m:\u001b[0m\u001b[1;33m\u001b[0m\u001b[1;33m\u001b[0m\u001b[0m\n\u001b[1;32m----> 3\u001b[1;33m     \u001b[0mwhy\u001b[0m \u001b[1;33m=\u001b[0m \u001b[0mx\u001b[0m\u001b[1;33m.\u001b[0m\u001b[0mgroupby\u001b[0m\u001b[1;33m(\u001b[0m\u001b[1;33m[\u001b[0m\u001b[1;34m\"STATEFIP\"\u001b[0m\u001b[1;33m]\u001b[0m\u001b[1;33m)\u001b[0m\u001b[1;33m.\u001b[0m\u001b[0msort_values\u001b[0m\u001b[1;33m(\u001b[0m\u001b[1;33m)\u001b[0m\u001b[1;33m.\u001b[0m\u001b[0mcumsum\u001b[0m\u001b[1;33m(\u001b[0m\u001b[1;33m)\u001b[0m\u001b[1;33m/\u001b[0m\u001b[0mx\u001b[0m\u001b[1;33m.\u001b[0m\u001b[0mgroupby\u001b[0m\u001b[1;33m(\u001b[0m\u001b[1;33m[\u001b[0m\u001b[1;34m\"STATEFIP\"\u001b[0m\u001b[1;33m]\u001b[0m\u001b[1;33m)\u001b[0m\u001b[1;33m.\u001b[0m\u001b[0msum\u001b[0m\u001b[1;33m(\u001b[0m\u001b[1;33m)\u001b[0m\u001b[1;33m\u001b[0m\u001b[1;33m\u001b[0m\u001b[0m\n\u001b[0m\u001b[0;32m      4\u001b[0m     \u001b[0meks\u001b[0m \u001b[1;33m=\u001b[0m \u001b[0mnp\u001b[0m\u001b[1;33m.\u001b[0m\u001b[0marange\u001b[0m\u001b[1;33m(\u001b[0m\u001b[1;36m0\u001b[0m\u001b[1;33m,\u001b[0m\u001b[1;36m1\u001b[0m\u001b[1;33m,\u001b[0m\u001b[1;36m1\u001b[0m\u001b[1;33m/\u001b[0m\u001b[0mx\u001b[0m\u001b[1;33m.\u001b[0m\u001b[0mgroupby\u001b[0m\u001b[1;33m(\u001b[0m\u001b[1;33m[\u001b[0m\u001b[1;34m\"STATEFIP\"\u001b[0m\u001b[1;33m]\u001b[0m\u001b[1;33m)\u001b[0m\u001b[1;33m.\u001b[0m\u001b[0mcount\u001b[0m\u001b[1;33m(\u001b[0m\u001b[1;33m)\u001b[0m\u001b[1;33m)\u001b[0m\u001b[1;33m\u001b[0m\u001b[1;33m\u001b[0m\u001b[0m\n\u001b[0;32m      5\u001b[0m     \u001b[0meksit\u001b[0m \u001b[1;33m=\u001b[0m \u001b[0mnp\u001b[0m\u001b[1;33m.\u001b[0m\u001b[0marange\u001b[0m\u001b[1;33m(\u001b[0m\u001b[1;36m0\u001b[0m\u001b[1;33m,\u001b[0m\u001b[0mx\u001b[0m\u001b[1;33m.\u001b[0m\u001b[0mgroupby\u001b[0m\u001b[1;33m(\u001b[0m\u001b[1;33m[\u001b[0m\u001b[1;34m\"STATEFIP\"\u001b[0m\u001b[1;33m]\u001b[0m\u001b[1;33m)\u001b[0m\u001b[1;33m.\u001b[0m\u001b[0mcount\u001b[0m\u001b[1;33m(\u001b[0m\u001b[1;33m)\u001b[0m\u001b[1;33m/\u001b[0m\u001b[1;33m(\u001b[0m\u001b[1;36m1\u001b[0m\u001b[1;33m+\u001b[0m\u001b[0mx\u001b[0m\u001b[1;33m.\u001b[0m\u001b[0mgroupby\u001b[0m\u001b[1;33m(\u001b[0m\u001b[1;33m[\u001b[0m\u001b[1;34m\"STATEFIP\"\u001b[0m\u001b[1;33m]\u001b[0m\u001b[1;33m)\u001b[0m\u001b[1;33m.\u001b[0m\u001b[0mcount\u001b[0m\u001b[1;33m(\u001b[0m\u001b[1;33m)\u001b[0m\u001b[1;33m)\u001b[0m\u001b[1;33m,\u001b[0m\u001b[1;36m1\u001b[0m\u001b[1;33m/\u001b[0m\u001b[1;33m(\u001b[0m\u001b[1;36m1\u001b[0m\u001b[1;33m+\u001b[0m\u001b[0mx\u001b[0m\u001b[1;33m.\u001b[0m\u001b[0mgroupby\u001b[0m\u001b[1;33m(\u001b[0m\u001b[1;33m[\u001b[0m\u001b[1;34m\"STATEFIP\"\u001b[0m\u001b[1;33m]\u001b[0m\u001b[1;33m)\u001b[0m\u001b[1;33m.\u001b[0m\u001b[0mcount\u001b[0m\u001b[1;33m(\u001b[0m\u001b[1;33m)\u001b[0m\u001b[1;33m)\u001b[0m\u001b[1;33m)\u001b[0m\u001b[1;33m\u001b[0m\u001b[1;33m\u001b[0m\u001b[0m\n",
      "\u001b[1;31mAttributeError\u001b[0m: 'int' object has no attribute 'groupby'"
     ]
    }
   ],
   "source": [
    "#Printing the Gini coefficients for each state\n",
    "for x in dfinc1980[\"INCTOT\"]:\n",
    "    why = x.groupby([\"STATEFIP\"]).sort_values().cumsum()/x.groupby([\"STATEFIP\"]).sum()\n",
    "    eks = np.arange(0,1,1/x.groupby([\"STATEFIP\"]).count())\n",
    "    eksit = np.arange(0,x.groupby([\"STATEFIP\"]).count()/(1+x.groupby([\"STATEFIP\"]).count()),1/(1+x.groupby([\"STATEFIP\"]).count()))\n",
    "    if  why.size == eks.size:\n",
    "        z1 = integrate.simpson(why, eks)\n",
    "        print(1-2*z1)\n",
    "    elif why.size == eksit.size:\n",
    "        z2 = integrate.simpson(why, eksit)\n",
    "        print(1-2*z2)"
   ]
  },
  {
   "cell_type": "markdown",
   "id": "dfa8757f",
   "metadata": {},
   "source": [
    "The North Dakota data value did not print for some reason so I gave it a null value in my final clean data table."
   ]
  },
  {
   "cell_type": "code",
   "execution_count": null,
   "id": "2e7f99f6-b91f-4364-b1d5-0fc2cd02cac2",
   "metadata": {},
   "outputs": [],
   "source": [
    "#Calculating the percentage of unreported incomes by year\n",
    "a = dfinc1980['INCTOT'].count()/dfallinc1980['INCTOT'].count()\n",
    "b = dfinc1981['INCTOT'].count()/dfallinc1981['INCTOT'].count()\n",
    "c = dfinc1982['INCTOT'].count()/dfallinc1982['INCTOT'].count()\n",
    "d = dfinc1983['INCTOT'].count()/dfallinc1983['INCTOT'].count()\n",
    "print(\"Percentage of unreported population in 1980= \" + str(a))\n",
    "print(\"Percentage of unreported population in 1981= \" + str(b))\n",
    "print(\"Percentage of unreported population in 1982= \" + str(c))\n",
    "print(\"Percentage of unreported population in 1983= \" + str(d))"
   ]
  },
  {
   "cell_type": "markdown",
   "id": "3e16c352-0262-4979-bc4b-8fdbff62f127",
   "metadata": {},
   "source": [
    "This means that about 76% of incomes were reported and that about 76% of people did not have a pre-tax personal income of greater than a million dollars in each year while 24% of the data is unreported and thus we will need to estimate it. Therefore, with a,b,c and d representing the percentage of people who weren't reported in each year, we get the equation average mean income in 1980 = unreported mean income in 1980* percentage unreported incomes in 1980+ reported mean incomes in 1980* percentage reported incomes in 1980.\n"
   ]
  },
  {
   "cell_type": "markdown",
   "id": "6af10403-8f46-45a1-9a5b-9886102096ab",
   "metadata": {},
   "source": [
    "Taking percentage unreported as a,b,c or d depending on the year, the percentage reported as (1-a),(1-b),(1-c),(1-d) and the average pre-tax personal incomes as 21020, 22390, 23430, 24580. We only need unreported mean incomes in each year which are calculated two cells below. The average income is calculated and displayed in the next cell."
   ]
  },
  {
   "cell_type": "code",
   "execution_count": null,
   "id": "2d8e6276-a1e5-4b3b-a5f6-965dc9621da6",
   "metadata": {},
   "outputs": [],
   "source": [
    "#Calculating the mean of reported incomes in each year in each state\n",
    "e = dfinc1980['INCTOT'].mean()\n",
    "f = dfinc1981['INCTOT'].mean()\n",
    "g = dfinc1982['INCTOT'].mean()\n",
    "h = dfinc1983['INCTOT'].mean()\n",
    "print(\"Mean income of reported population in 1980= \" + str(e))\n",
    "print(\"Mean income of reported population in 1981= \" + str(f))\n",
    "print(\"Mean income of reported population in 1982= \" + str(g))\n",
    "print(\"Mean income of reported population in 1983= \" + str(h))"
   ]
  },
  {
   "cell_type": "markdown",
   "id": "b03b6259",
   "metadata": {},
   "source": [
    "Rearranging the equation for average mean income in terms of unreported mean income we get, avg unreported inc = (avg mean inc - reported mean income * percentage reported)/percent unreported"
   ]
  },
  {
   "cell_type": "code",
   "execution_count": null,
   "id": "7d758359-f60d-4f8c-b594-271cd18854b6",
   "metadata": {},
   "outputs": [],
   "source": [
    "#Calculating unreported mean incomes by year using average national income in each year\n",
    "#1980\n",
    "millionmeaninc1980 = (21020 - 9017.828051732786*0.7579178788680243)/(1-0.7579178788680243)\n",
    "print(\"Mean income of high income earners in 1980 = \" + str(millionmeaninc1980))\n",
    "#1981\n",
    "millionmeaninc1981 = (22390 - 9754.323413303146*0.7598341402088686)/(1-0.7598341402088686)\n",
    "print(\"Mean income of high income earners in 1981 = \" + str(millionmeaninc1981))\n",
    "#1982\n",
    "millionmeaninc1982 = (23430 - 10718.48132763349*0.7579178788680243)/(1-0.7579178788680243)\n",
    "print(\"Mean income of high income earners in 1982 = \" + str(millionmeaninc1982))\n",
    "#1983\n",
    "millionmeaninc1983 = (24580 - 9754.323413303146*0.7598341402088686)/(1-0.7598341402088686)\n",
    "print(\"Mean income of high income earners in 1983 = \" + str(millionmeaninc1983))"
   ]
  },
  {
   "cell_type": "code",
   "execution_count": null,
   "id": "3593ed41",
   "metadata": {},
   "outputs": [],
   "source": [
    "#Printing the percentage of the population whose race is classified as \"white\"\n",
    "#The results are copy pasted to the finalcleandata.xlsx - Sheet1 (1).csv file in the white percentage column\n",
    "for x in racedataframes:\n",
    "    a = x[\"RACE\"].count()\n",
    "    b = x[x[\"RACE\"] == 100].count()\n",
    "    z=b/a\n",
    "    print(z[\"RACE\"])"
   ]
  },
  {
   "cell_type": "code",
   "execution_count": null,
   "id": "41125e1c",
   "metadata": {},
   "outputs": [],
   "source": [
    "#Printing the percentage of the population whose race is classified as \"black\"\n",
    "#The results are copy pasted to the finalcleandata.xlsx - Sheet1 (1).csv file in the black percentage column\n",
    "for x in racedataframes:\n",
    "    a = x[\"RACE\"].count()\n",
    "    b = x[x[\"RACE\"] == 200].count()\n",
    "    z=b/a\n",
    "    print(z[\"RACE\"])"
   ]
  },
  {
   "cell_type": "code",
   "execution_count": null,
   "id": "d4a4dbea",
   "metadata": {},
   "outputs": [],
   "source": [
    "#Printing the percentage of the population whose race is classified as \"other\"\n",
    "#The results are copy pasted to the finalcleandata.xlsx - Sheet1 (1).csv file  in the other percentage column\n",
    "for x in racedataframes:\n",
    "    a = x[\"RACE\"].count()\n",
    "    b = x[x[\"RACE\"] == 700].count()\n",
    "    z=b/a\n",
    "    print(z[\"RACE\"])"
   ]
  },
  {
   "cell_type": "code",
   "execution_count": null,
   "id": "1241b09c-dbe3-484f-b580-e5655ebb25e7",
   "metadata": {},
   "outputs": [],
   "source": [
    "#Importing necessary packages\n",
    "import pandas as pd\n",
    "import statsmodels.api as sm\n",
    "import matplotlib.pyplot as plt\n",
    "%matplotlib inline\n",
    "from sklearn.linear_model import LinearRegression\n",
    "import seaborn as sb"
   ]
  },
  {
   "cell_type": "code",
   "execution_count": null,
   "id": "a51c5ba7-af3e-49d3-b93b-8526599fcec2",
   "metadata": {},
   "outputs": [],
   "source": [
    "#Loading in the data\n",
    "df1 = pd.read_csv('finalcleandatasql.csv')"
   ]
  },
  {
   "cell_type": "code",
   "execution_count": null,
   "id": "b24e4ba6-fef0-4ee7-bca6-db558920f6bc",
   "metadata": {},
   "outputs": [],
   "source": [
    "#Splitting the data by year as well as the 2 years right before the implementation of the fund(i.e. dfprefund in 1980,1981)\n",
    "#and the first 2 years after the fund(i.e. dfpostfund in 1982,1983)\n",
    "dfprefund = df1[(df1['countyear'] == 1980) | (df1['countyear'] == 1981)]\n",
    "dfpostfund = df1[(df1['countyear'] == 1982) | (df1['countyear'] == 1983)]\n",
    "df1980 = df1[(df1['countyear'] == 1980)]\n",
    "df1981 = df1[(df1['countyear'] == 1981)]\n",
    "df1982 = df1[(df1['countyear'] == 1982)]\n",
    "df1983 = df1[(df1['countyear'] == 1983)]"
   ]
  },
  {
   "cell_type": "code",
   "execution_count": null,
   "id": "132f93e5-d2e2-4602-ad69-9fbce9f3d653",
   "metadata": {},
   "outputs": [],
   "source": [
    "#Taking a high-level look at the data.\n",
    "df1"
   ]
  },
  {
   "cell_type": "code",
   "execution_count": null,
   "id": "aa240126",
   "metadata": {},
   "outputs": [],
   "source": [
    "for x in df1980, df1981, df1982, df1983:\n",
    "    y = x.describe()\n",
    "    print(str(x) + str(y))"
   ]
  },
  {
   "cell_type": "code",
   "execution_count": null,
   "id": "642fe446-13d0-4092-866b-187d3151e057",
   "metadata": {},
   "outputs": [],
   "source": [
    "#Creating summary statistics for each dataset by year\n",
    "df1980.describe().to_csv(\"1980summarystatistics\")\n",
    "df1981.describe().to_csv(\"1981summarystatistics\")\n",
    "df1982.describe().to_csv(\"1982summarystatistics\")\n",
    "df1983.describe().to_csv(\"1983summarystatistics\")"
   ]
  },
  {
   "cell_type": "code",
   "execution_count": null,
   "id": "a68e17e2-4385-4fd6-8e4a-f147d1e114f5",
   "metadata": {},
   "outputs": [],
   "source": [
    "#Creating a dataset without DC as DC is an outlier due to its small size(area and population), high income and high crime rates\n",
    "dfwithoutdc = df1[df1['statefip'] != 11] "
   ]
  },
  {
   "cell_type": "code",
   "execution_count": null,
   "id": "fc58666b-7128-4fb1-b87d-82a0569e66e3",
   "metadata": {},
   "outputs": [],
   "source": [
    "#Taking a high-level look at the data without DC.\n",
    "dfwithoutdc"
   ]
  },
  {
   "cell_type": "code",
   "execution_count": null,
   "id": "42b7394e",
   "metadata": {},
   "outputs": [],
   "source": [
    "#Taking a high-level look at the data for the final 2 years before the fund with DC.\n",
    "dfprefund"
   ]
  },
  {
   "cell_type": "code",
   "execution_count": null,
   "id": "61afbeb4",
   "metadata": {},
   "outputs": [],
   "source": [
    "#Taking a high-level look at the data for the first 2 years after the fund with DC.\n",
    "dfpostfund"
   ]
  },
  {
   "cell_type": "code",
   "execution_count": null,
   "id": "6db659e9",
   "metadata": {},
   "outputs": [],
   "source": [
    "#Creating a dataset without DC for the final 2 years implementation of the fund\n",
    "dfprefundwithoutdc = dfprefund[dfprefund['statefip'] != 11] "
   ]
  },
  {
   "cell_type": "code",
   "execution_count": null,
   "id": "b96fdde5",
   "metadata": {},
   "outputs": [],
   "source": [
    "#Creating a dataset without DC for the first 2 years after the implementation of the fund\n",
    "dfpostfundwithoutdc = dfpostfund[dfpostfund['statefip'] != 11] "
   ]
  },
  {
   "cell_type": "code",
   "execution_count": null,
   "id": "37059721",
   "metadata": {},
   "outputs": [],
   "source": [
    "#Taking a high-level look at the data for the final 2 years before the fund with DC.\n",
    "dfprefundwithoutdc"
   ]
  },
  {
   "cell_type": "code",
   "execution_count": null,
   "id": "b0441f63",
   "metadata": {
    "scrolled": true
   },
   "outputs": [],
   "source": [
    "#Taking a high-level look at the data for the first 2 years after the fund with DC.\n",
    "dfpostfundwithoutdc"
   ]
  },
  {
   "cell_type": "code",
   "execution_count": null,
   "id": "f70a42a4",
   "metadata": {},
   "outputs": [],
   "source": [
    "#Creating our model. Taken from https://towardsdatascience.com/linear-regression-in-6-lines-of-python-5e1d0cd05b8d.\n",
    "X1 = df1.iloc[:,3].values.reshape(-1, 1)\n",
    "X2 = df1.iloc[:,4].values.reshape(-1, 1)\n",
    "X3 = dfwithoutdc.iloc[:,3].values.reshape(-1, 1)\n",
    "X4 = dfwithoutdc.iloc[:,4].values.reshape(-1, 1)\n",
    "X5 = dfprefundwithoutdc.iloc[:,3].values.reshape(-1, 1)\n",
    "X6 = dfprefundwithoutdc.iloc[:,4].values.reshape(-1, 1)\n",
    "X7 = dfpostfundwithoutdc.iloc[:,3].values.reshape(-1, 1)\n",
    "X8 = dfpostfundwithoutdc.iloc[:,4].values.reshape(-1, 1)\n",
    "Y1 = df1.iloc[:,21].values.reshape(-1, 1)\n",
    "Y2 = df1.iloc[:,22].values.reshape(-1, 1)\n",
    "Y3 = dfwithoutdc.iloc[:,21].values.reshape(-1, 1)\n",
    "Y4 = dfwithoutdc.iloc[:,22].values.reshape(-1, 1)\n",
    "Y5 = dfprefundwithoutdc.iloc[:,21].values.reshape(-1, 1)\n",
    "Y6 = dfprefundwithoutdc.iloc[:,22].values.reshape(-1, 1)\n",
    "Y7 = dfpostfundwithoutdc.iloc[:,21].values.reshape(-1, 1)\n",
    "Y8 = dfpostfundwithoutdc.iloc[:,22].values.reshape(-1, 1)\n",
    "linear_regressor = LinearRegression()\n",
    "linear_regressor.fit(X1, Y1)\n",
    "linear_regressor.fit(X1, Y2)\n",
    "linear_regressor.fit(X2, Y1)\n",
    "linear_regressor.fit(X2, Y2)\n",
    "linear_regressor.fit(X3, Y3)\n",
    "linear_regressor.fit(X3, Y4)\n",
    "linear_regressor.fit(X4, Y3)\n",
    "linear_regressor.fit(X4, Y4)\n",
    "linear_regressor.fit(X5, Y5)\n",
    "linear_regressor.fit(X5, Y6)\n",
    "linear_regressor.fit(X6, Y5)\n",
    "linear_regressor.fit(X6, Y6)\n",
    "linear_regressor.fit(X7, Y7)\n",
    "linear_regressor.fit(X7, Y8)\n",
    "linear_regressor.fit(X8, Y7)\n",
    "linear_regressor.fit(X8, Y8)\n",
    "Y_predv1 = linear_regressor.predict(X1) \n",
    "Y_predp1 = linear_regressor.predict(X1) \n",
    "Y_predv2 = linear_regressor.predict(X2)\n",
    "Y_predp2 = linear_regressor.predict(X2) \n",
    "Y_predv3 = linear_regressor.predict(X3)\n",
    "Y_predp3 = linear_regressor.predict(X3) \n",
    "Y_predv4 = linear_regressor.predict(X4)\n",
    "Y_predp4 = linear_regressor.predict(X4) \n",
    "Y_predv5 = linear_regressor.predict(X5)\n",
    "Y_predp5 = linear_regressor.predict(X5) \n",
    "Y_predv6 = linear_regressor.predict(X6)\n",
    "Y_predp6 = linear_regressor.predict(X6) \n",
    "Y_predv7 = linear_regressor.predict(X7)\n",
    "Y_predp7 = linear_regressor.predict(X7) \n",
    "Y_predv8 = linear_regressor.predict(X8) \n",
    "Y_predp8 = linear_regressor.predict(X8) "
   ]
  },
  {
   "cell_type": "code",
   "execution_count": null,
   "id": "5af45526",
   "metadata": {},
   "outputs": [],
   "source": [
    "#Reading some values of the data.\n",
    "X1, X2, Y1, Y2"
   ]
  },
  {
   "cell_type": "code",
   "execution_count": null,
   "id": "e02b5098-2b4c-4f5a-970e-2bdf0a30a7fb",
   "metadata": {},
   "outputs": [],
   "source": [
    "#Adding in constants for our regression.\n",
    "v1 = sm.add_constant(X1)\n",
    "v2 = sm.add_constant(X2)\n",
    "v3 = sm.add_constant(X3)\n",
    "v4 = sm.add_constant(X4)\n",
    "v5 = sm.add_constant(X5)\n",
    "v6 = sm.add_constant(X6)\n",
    "v7 = sm.add_constant(X7)\n",
    "v8 = sm.add_constant(X8)"
   ]
  },
  {
   "cell_type": "code",
   "execution_count": null,
   "id": "68129604",
   "metadata": {
    "scrolled": false
   },
   "outputs": [],
   "source": [
    "#Visualizing figure 1.\n",
    "p1 = sb.regplot(x=X1,y=Y1)\n",
    "p1.set_xlabel(\"Average income\", fontsize = 20)\n",
    "p1.set_ylabel(\"Violent Crime Rate\", fontsize = 20)\n",
    "p1.set_title(\"Fig 1. All violent crime rates vs average incomes\", fontsize = 16)"
   ]
  },
  {
   "cell_type": "markdown",
   "id": "3a4432dd",
   "metadata": {},
   "source": [
    "From this plot, we can see there is an outlier which is DC."
   ]
  },
  {
   "cell_type": "code",
   "execution_count": null,
   "id": "3b450b3f",
   "metadata": {
    "scrolled": true
   },
   "outputs": [],
   "source": [
    "#Visualizing figure 2.\n",
    "p2 = sb.regplot(x=X1,y=Y2)\n",
    "p2.set_xlabel(\"Average income\", fontsize = 20)\n",
    "p2.set_ylabel(\"Property Crime Rate\", fontsize = 20)\n",
    "p2.set_title(\"Fig 2. All property crime rates vs average incomes\", fontsize = 16)"
   ]
  },
  {
   "cell_type": "code",
   "execution_count": null,
   "id": "64145336",
   "metadata": {},
   "outputs": [],
   "source": [
    "#Visualizing figure 3.\n",
    "p3 = sb.regplot(x=X2,y=Y1)\n",
    "p3.set_xlabel(\"Gini Coefficient\", fontsize = 20)\n",
    "p3.set_ylabel(\"Violent Crime Rate\", fontsize = 20)\n",
    "p3.set_title(\"Fig 3. All violent crime rates vs Gini coefficients\", fontsize = 16)"
   ]
  },
  {
   "cell_type": "markdown",
   "id": "36307cb8",
   "metadata": {},
   "source": [
    "From this plot, we can see DC is an outlier for violent crime once again. This means it is best to do our analysis for violent crime without DC altogether as it would skew the results. It is hypothesized DC would have significantly higher violent crime anyway due to the significantly higher population density. I also think the reason it is not an outlier for property crime is because of the significantly higher mean income compared to the other states."
   ]
  },
  {
   "cell_type": "code",
   "execution_count": null,
   "id": "6ca5a143",
   "metadata": {},
   "outputs": [],
   "source": [
    "#Visualizing figure 4.\n",
    "p4 = sb.regplot(x=X2,y=Y2)\n",
    "p4.set_xlabel(\"Gini Coefficient\", fontsize = 20)\n",
    "p4.set_ylabel(\"Property Crime Rate\", fontsize = 20)\n",
    "p4.set_title(\"Fig 4. All property crime rates vs Gini coefficients\", fontsize = 16)"
   ]
  },
  {
   "cell_type": "markdown",
   "id": "7b772fcb",
   "metadata": {},
   "source": [
    "As hypothesized, DC is not an outlier for property crime."
   ]
  },
  {
   "cell_type": "code",
   "execution_count": null,
   "id": "1d53819a",
   "metadata": {},
   "outputs": [],
   "source": [
    "#Visualizing figure 5.\n",
    "p5 = sb.regplot(x=X3,y=Y3)\n",
    "p5.set_xlabel(\"Average income\", fontsize = 20)\n",
    "p5.set_ylabel(\"Violent Crime Rate\", fontsize = 20)\n",
    "p5.set_title(\"Fig 5. All violent crime rates vs average incomes besides DC\", fontsize = 16)"
   ]
  },
  {
   "cell_type": "markdown",
   "id": "953503f3",
   "metadata": {},
   "source": [
    "It can be argued there is a weak positive correlation here although p-values need to be seen to comprehend it better. The correlation is very weak and not that "
   ]
  },
  {
   "cell_type": "code",
   "execution_count": null,
   "id": "4fd9560c",
   "metadata": {},
   "outputs": [],
   "source": [
    "#Visualizing figure 6.\n",
    "p6 = sb.regplot(x=X3,y=Y4)\n",
    "p6.set_xlabel(\"Average Income\", fontsize = 20)\n",
    "p6.set_ylabel(\"Property Crime Rate\", fontsize = 20)\n",
    "p6.set_title(\"Fig 6. All property crime rates vs Average Incomes besides DC\", fontsize = 16)"
   ]
  },
  {
   "cell_type": "markdown",
   "id": "e8c1c841",
   "metadata": {},
   "source": [
    "Once again, by insepction, there appears to be a weak positive correaltion. The causal reason for this may be that as society becomes ultra-wealthy, there is more to steal and so people commit property crimes due to jealousy."
   ]
  },
  {
   "cell_type": "code",
   "execution_count": null,
   "id": "b73e67fd",
   "metadata": {},
   "outputs": [],
   "source": [
    "#Visualizing figure 7.\n",
    "p7 = sb.regplot(x=X4,y=Y3)\n",
    "p7.set_xlabel(\"Gini coefficient\", fontsize = 20)\n",
    "p7.set_ylabel(\"Violent Crime Rate\", fontsize = 20)\n",
    "p7.set_title(\"Fig 7. All violent crime rates vs Average incomes besides DC\", fontsize = 16)"
   ]
  },
  {
   "cell_type": "markdown",
   "id": "e7b62a85",
   "metadata": {},
   "source": [
    "There appears to be no correlation according to the naked eye."
   ]
  },
  {
   "cell_type": "code",
   "execution_count": null,
   "id": "645bda61",
   "metadata": {},
   "outputs": [],
   "source": [
    "#Visualizing figure 8.\n",
    "p8 = sb.regplot(x=X4,y=Y4)\n",
    "p8.set_xlabel(\"Gini Coefficient\", fontsize = 20)\n",
    "p8.set_ylabel(\"Property Crime Rate\", fontsize = 20)\n",
    "p8.set_title(\"Fig 8. All property crime rates vs Gini coefficients besides DC\", fontsize = 16)"
   ]
  },
  {
   "cell_type": "markdown",
   "id": "864d698c",
   "metadata": {},
   "source": [
    "There appears to be a much stronger negative correlation where property crime goes down as income inequality increases."
   ]
  },
  {
   "cell_type": "code",
   "execution_count": null,
   "id": "1cb6c81e",
   "metadata": {},
   "outputs": [],
   "source": [
    "#Visualizing figure 9.\n",
    "p9 = sb.regplot(x=X5,y=Y5)\n",
    "p9.set_xlabel(\"Average income\", fontsize = 20)\n",
    "p9.set_ylabel(\"Violent Crime Rate\", fontsize = 20)\n",
    "p9.set_title(\"Fig 9. 1980-81 violent crime rates vs Average incomes besides DC\", fontsize = 16)"
   ]
  },
  {
   "cell_type": "markdown",
   "id": "dad48e36",
   "metadata": {},
   "source": [
    "There appears to be a strongish postive correlation here where violent crime goes up as mean income goes up."
   ]
  },
  {
   "cell_type": "code",
   "execution_count": null,
   "id": "c9b93b2a",
   "metadata": {},
   "outputs": [],
   "source": [
    "#Visualizing figure 10.\n",
    "p10 = sb.regplot(x=X5,y=Y6)\n",
    "p10.set_xlabel(\"Average income\", fontsize = 20)\n",
    "p10.set_ylabel(\"Property Crime Rate\", fontsize = 20)\n",
    "p10.set_title(\"Fig 10. 1980-81 property crime rates vs Average incomes besides DC\", fontsize = 16)"
   ]
  },
  {
   "cell_type": "markdown",
   "id": "b41d403a",
   "metadata": {},
   "source": [
    "There appears to be a very strong postive correlation between property crime going up as income goes up."
   ]
  },
  {
   "cell_type": "code",
   "execution_count": null,
   "id": "5dcac5f9",
   "metadata": {},
   "outputs": [],
   "source": [
    "#Visualizing figure 11.\n",
    "p11 = sb.regplot(x=X6,y=Y5)\n",
    "p11.set_xlabel(\"Gini Coefficient\", fontsize = 20)\n",
    "p11.set_ylabel(\"Violent Crime Rate\", fontsize = 20)\n",
    "p11.set_title(\"Fig 11. 1980-81 violent crime rates vs Gini coefficients besides DC\", fontsize = 16)"
   ]
  },
  {
   "cell_type": "markdown",
   "id": "d12df21f",
   "metadata": {},
   "source": [
    "There seems to be no correlation here."
   ]
  },
  {
   "cell_type": "code",
   "execution_count": null,
   "id": "2a22f6f3",
   "metadata": {},
   "outputs": [],
   "source": [
    "#Visualizing figure 12.\n",
    "p12 = sb.regplot(x=X6,y=Y6)\n",
    "p12.set_xlabel(\"Gini Coefficient\", fontsize = 20)\n",
    "p12.set_ylabel(\"Property Crime Rate\", fontsize = 20)\n",
    "p12.set_title(\"Fig 12. 1980-81 property crime rates vs Gini coefficients besides DC\", fontsize = 16)"
   ]
  },
  {
   "cell_type": "markdown",
   "id": "106b2f50",
   "metadata": {},
   "source": [
    "There appears to be a weak negative correlation here."
   ]
  },
  {
   "cell_type": "code",
   "execution_count": null,
   "id": "7da8169a",
   "metadata": {},
   "outputs": [],
   "source": [
    "#Visualizing figure 13.\n",
    "p13 = sb.regplot(x=X7,y=Y7)\n",
    "p13.set_xlabel(\"Average income\", fontsize = 20)\n",
    "p13.set_ylabel(\"Violent Crime Rate\", fontsize = 20)\n",
    "p13.set_title(\"Fig 13. 1982-83 violent crime rates vs Average Incomes besides DC\", fontsize = 16)"
   ]
  },
  {
   "cell_type": "markdown",
   "id": "c31b9983",
   "metadata": {},
   "source": [
    "There appears to be a weak positive correlation here where violent crime goes up as average income increases. "
   ]
  },
  {
   "cell_type": "code",
   "execution_count": null,
   "id": "5a32e76b",
   "metadata": {},
   "outputs": [],
   "source": [
    "#Visualizing figure 14.\n",
    "p14 = sb.regplot(x=X7,y=Y8)\n",
    "p14.set_xlabel(\"Average income\", fontsize = 20)\n",
    "p14.set_ylabel(\"Property Crime Rate\", fontsize = 20)\n",
    "p14.set_title(\"Fig 14. 1982-83 property crime rates vs Average Incomes besides DC\", fontsize = 16)"
   ]
  },
  {
   "cell_type": "markdown",
   "id": "be382e69",
   "metadata": {},
   "source": [
    "There is a very strong positive correlation here as property crime goes up as average income goes up."
   ]
  },
  {
   "cell_type": "code",
   "execution_count": null,
   "id": "16eb64ed",
   "metadata": {},
   "outputs": [],
   "source": [
    "#Visualizing figure 15.\n",
    "p15 = sb.regplot(x=X8,y=Y7)\n",
    "p15.set_xlabel(\"Gini Coefficient\", fontsize = 20)\n",
    "p15.set_ylabel(\"Violent Crime Rate\", fontsize = 20)\n",
    "p15.set_title(\"Fig 15. 1982-83 violent crime rates vs Gini coefficients besides DC\", fontsize = 16)"
   ]
  },
  {
   "cell_type": "markdown",
   "id": "0756e674",
   "metadata": {},
   "source": [
    "There appears to be no correlation between the Gini coefficient and income inequality."
   ]
  },
  {
   "cell_type": "code",
   "execution_count": null,
   "id": "03df7256",
   "metadata": {},
   "outputs": [],
   "source": [
    "#Visualizing figure 16.\n",
    "p16 = sb.regplot(x=X8,y=Y8)\n",
    "p16.set_xlabel(\"Gini Coefficient\", fontsize = 20)\n",
    "p16.set_ylabel(\"Property Crime Rate\", fontsize = 20)\n",
    "p16.set_title(\"Fig 16. 1982-83 property crime rates vs Gini coefficients besides DC\", fontsize = 16)"
   ]
  },
  {
   "cell_type": "markdown",
   "id": "0e33de41",
   "metadata": {},
   "source": [
    "There appears to be a slightly weak negative correlation between property crime and income inequality."
   ]
  },
  {
   "cell_type": "code",
   "execution_count": null,
   "id": "dd1a165d-977b-4779-b06a-4b4d843e43bc",
   "metadata": {},
   "outputs": [],
   "source": [
    "#Fitting a linear regression model to the data which we will get parameters and p-values from later.\n",
    "res1 = sm.OLS(df1['violentcrime'], v1).fit()\n",
    "res2 = sm.OLS(df1['propertycrime'], v1).fit()\n",
    "res3 = sm.OLS(df1['violentcrime'], v2).fit()\n",
    "res4 = sm.OLS(df1['propertycrime'], v2).fit()\n",
    "res5 = sm.OLS(dfwithoutdc['violentcrime'], v3).fit()\n",
    "res6 = sm.OLS(dfwithoutdc['propertycrime'], v3).fit()\n",
    "res7 = sm.OLS(dfwithoutdc['violentcrime'], v4).fit()\n",
    "res8 = sm.OLS(dfwithoutdc['propertycrime'], v4).fit()\n",
    "res9 = sm.OLS(dfprefundwithoutdc['violentcrime'], v5).fit()\n",
    "res10 = sm.OLS(dfprefundwithoutdc['propertycrime'], v5).fit()\n",
    "res11 = sm.OLS(dfprefundwithoutdc['violentcrime'], v6).fit()\n",
    "res12 = sm.OLS(dfprefundwithoutdc['propertycrime'], v6).fit()\n",
    "res13 = sm.OLS(dfpostfundwithoutdc['violentcrime'], v7).fit()\n",
    "res14 = sm.OLS(dfpostfundwithoutdc['propertycrime'], v7).fit()\n",
    "res15 = sm.OLS(dfpostfundwithoutdc['violentcrime'], v8).fit()\n",
    "res16 = sm.OLS(dfpostfundwithoutdc['propertycrime'], v8).fit()"
   ]
  },
  {
   "cell_type": "code",
   "execution_count": null,
   "id": "43bf3626-4072-4747-9516-70245f45b35b",
   "metadata": {},
   "outputs": [],
   "source": [
    "#Creating a list of fits.\n",
    "resultslist = [res1,res2,res3,res4,res5,res6,res7,res8,res9,res10,res11,res12,res13,res14,\n",
    "              res15,res16]"
   ]
  },
  {
   "cell_type": "code",
   "execution_count": null,
   "id": "abe689f3-e71c-49ae-acf1-a9e6cb0504e7",
   "metadata": {},
   "outputs": [],
   "source": [
    "#Creating a lists of parameters.\n",
    "for (a,b) in zip(resultslist, range(1,17)):\n",
    "    z = str(a.summary())\n",
    "    y = \"Fig \" + str(b) + \".\\n\" + z\n",
    "    print(y)"
   ]
  },
  {
   "cell_type": "markdown",
   "id": "7e33805e",
   "metadata": {},
   "source": [
    "Key findings:-\n",
    "1) DC is a complete and total outlier because the crime rate(both property and violent) that it significantly skews and subsequently biases the data.\n",
    "2) We have continuously got statistically significant results at the 5% level that, in general, violent and property increases when there is more income. This makes sense for property crime intuitively as more income means more wealth to steal but not violent crime as you would think more income would mean more investment in the police force which would mean fewer criminals get away with their crimes.\n",
    "3) Violent crime goes up with more income inequality(as measured by the Gini coefficient) but property crime goes down. These findings are statistically significant also till the 5% level and for property crime at the 0.1% level also. \n",
    "4) The only feasible explanation for why this is happening with violent crime is that when income and income inequality increase simultaneously people tend to become violent as an increase in income would mean a better prepared police force(as long as funds are distributed appropriately).\n",
    "5) An implementation of an universal basic income decreased violent crime by 0.0058 and property crime by 0.1767 incidents for every $1 increase income.\n",
    "6) Similarly, violent crime went down by 4.4128 and property crime by 34.1578 incidents for every 1 point increase in the Gini coefficient after the implementation of the universal basic income."
   ]
  },
  {
   "cell_type": "code",
   "execution_count": null,
   "id": "19c5332a",
   "metadata": {},
   "outputs": [],
   "source": []
  }
 ],
 "metadata": {
  "kernelspec": {
   "display_name": "Python 3 (ipykernel)",
   "language": "python",
   "name": "python3"
  },
  "language_info": {
   "codemirror_mode": {
    "name": "ipython",
    "version": 3
   },
   "file_extension": ".py",
   "mimetype": "text/x-python",
   "name": "python",
   "nbconvert_exporter": "python",
   "pygments_lexer": "ipython3",
   "version": "3.9.7"
  }
 },
 "nbformat": 4,
 "nbformat_minor": 5
}
